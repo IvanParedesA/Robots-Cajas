{
 "cells": [
  {
   "cell_type": "markdown",
   "metadata": {},
   "source": [
    "Iván Ricardo Paredes Avilez \n",
    "A01705083\n",
    "\n",
    "19/11/2023\n",
    "\n",
    "Evidencia 1. Actividad Integradora\n",
    "\n",
    "Modelo de robots y almacenamiento de cajas."
   ]
  },
  {
   "cell_type": "markdown",
   "metadata": {},
   "source": [
    "Descripción de la estrategia y mecanismos utilizados:\n",
    "\n",
    "Tenemos dos clases. La clase RobotAgent representa a cada robot en el modelo. Cada agente tiene una identificación única, una posición en la cuadrícula, una caja actual que lleva consigo, un destino objetivo para la caja y una matriz para almacenar las posiciones de las cajas en el entorno. Por otra parte, el entorno se modela utilizando la clase StorageModel, que contiene una cuadrícula bidimensional para representar la distribución de cajas y un conjunto de agentes que interactúan en este entorno.\n",
    "\n",
    "Para la inicialización, se ubica la distribución de cajas en posiciones aleatorias dentro de la cuadrícula, asegurándose de que no haya más de tres cajas en una ubicación inicial. Los agentes se colocan en posiciones aleatorias sin cajas. Después, para la interacción de los robots se tiene el método step de la clase RobotAgent. Con este, los agentes intentan recoger una caja de las celdas vecinas si está disponible. Se verifica si el agente ya lleva una caja y si la caja en la celda vecina tiene un valor menor que 5 antes de recogerla. Los agentes se mueven a posiciones aleatorias que no tienen cajas, evitando colisiones con otras cajas o agentes. \n",
    "\n",
    "En cuanto a la organización de cajas, el método check_box_distribution verifica si la distribución de cajas en la cuadrícula es equilibrada, es decir, si todas las cajas están distribuidas en múltiplos de 5. Si no es así, se activa el método reorganize_boxes. También, el método reorganize_boxes selecciona aleatoriamente a un agente que no lleva una caja y lo mueve a una celda vecina sin una caja, contribuyendo así a equilibrar la distribución de cajas.\n",
    "\n",
    "Por la parte del modelo, este se ejecuta durante un número específico de pasos (STEPS). En cada paso, se recopilan datos utilizando el DataCollector. Se realiza una verificación del equilibrio de cajas y, si es necesario, se reorganizan las cajas antes de que los agentes realicen sus movimientos. Al final de la simulación, se imprime el número de pasos utilizados y se visualiza la distribución final de las cajas en la cuadrícula utilizando matplotlib.\n",
    "\n",
    "\n",
    "¿Existe una forma de reducir el número de pasos utilizados? Si es así, ¿cuál es la estrategia que se tendría en implementar?\n",
    "\n",
    "Ya que actualmente se realiza una búsqueda aleatoria para encontrar las cajas, tal vez una aproximación diferente para esto sería que en lugar de realizar una búsqueda aleatoria, se almacenar las posiciones válidas en el agente y luego elegir entre esas posiciones durante el movimiento."
   ]
  },
  {
   "cell_type": "code",
   "execution_count": 279,
   "metadata": {},
   "outputs": [],
   "source": [
    "# Importación de módulos de la biblioteca Mesa para modelado basado en agentes\n",
    "from mesa import Agent, Model\n",
    "from mesa.time import SimultaneousActivation\n",
    "from mesa.space import MultiGrid\n",
    "from mesa.datacollection import DataCollector\n",
    "\n",
    "# Importación de bibliotecas estándar de Python para operaciones numéricas, generación de números aleatorios y visualización\n",
    "import numpy as np\n",
    "import random\n",
    "import matplotlib.pyplot as plt"
   ]
  },
  {
   "cell_type": "code",
   "execution_count": 280,
   "metadata": {},
   "outputs": [],
   "source": [
    "class RobotAgent(Agent):\n",
    "    def __init__(self, id, model):\n",
    "        super().__init__(id, model)\n",
    "        self.id = id\n",
    "        self.box = ()  # Caja actual que lleva el agente\n",
    "        self.target = ()  # Destino objetivo para la caja\n",
    "        self.box_position = np.zeros((model.grid.width, model.grid.height), dtype=int)  # Matriz para almacenar posiciones de cajas\n",
    "\n",
    "    def step(self):\n",
    "        position = ()\n",
    "        possible_steps = self.model.grid.get_neighborhood(self.pos, moore=False, include_center=False)\n",
    "\n",
    "        # Recoger una caja si está disponible en las celdas vecinas\n",
    "        for i in possible_steps:\n",
    "            (x, y) = i\n",
    "            if self.model.boxes[x][y] > 0:\n",
    "                self.box_position[x][y] = self.model.boxes[x][y]\n",
    "                if len(self.box) > 0 and self.model.boxes[x][y] < 5:\n",
    "                    self.box = ()\n",
    "                    self.model.boxes[x][y] += 1\n",
    "                    self.box_position[x][y] += 1\n",
    "                    self.model.pickedup_boxes -= 1\n",
    "\n",
    "        # Moverse a una posición aleatoria que no tenga una caja\n",
    "        position = random.choice(possible_steps)\n",
    "        while self.model.boxes[position] > 0 or self.box_position[position] > 0:\n",
    "            position = random.choice(possible_steps)\n",
    "\n",
    "        # Mover al agente a la posición seleccionada\n",
    "        self.model.grid.move_agent(self, position)\n",
    "        self.pos = position"
   ]
  },
  {
   "cell_type": "code",
   "execution_count": 281,
   "metadata": {},
   "outputs": [],
   "source": [
    "class StorageModel(Model):\n",
    "    def __init__(self, width, height, num_agents, boxes):\n",
    "        self.schedule = SimultaneousActivation(self)\n",
    "        self.grid = MultiGrid(width, height, torus=False)\n",
    "        self.boxes = np.zeros((width, height), dtype=int)  # Matriz para representar la distribución de cajas en el entorno\n",
    "        self.pickedup_boxes = 0  # Contador de cajas recogidas por los agentes\n",
    "        self.datacollector = DataCollector(model_reporters={\"Robots\": getRobots, \"Boxes\": getBoxes})\n",
    "        \n",
    "        # Inicializar cajas en posiciones aleatorias\n",
    "        initial_boxes = 0\n",
    "        while initial_boxes < boxes:\n",
    "            x, y = np.random.randint(0, width), np.random.randint(0, height)\n",
    "            if self.boxes[x, y] < 3:\n",
    "                self.boxes[x, y] += 1\n",
    "                initial_boxes += 1\n",
    "\n",
    "        # Inicializar agentes en posiciones aleatorias sin cajas\n",
    "        agent_positions = []\n",
    "        while len(agent_positions) < num_agents:\n",
    "            x, y = np.random.randint(0, width), np.random.randint(0, height)\n",
    "            if (x, y) not in agent_positions and self.boxes[x, y] == 0:\n",
    "                agent = RobotAgent(len(agent_positions), self)\n",
    "                self.schedule.add(agent)\n",
    "                self.grid.place_agent(agent, (x, y))\n",
    "                agent_positions.append((x, y))\n",
    "\n",
    "    def step(self):\n",
    "        self.datacollector.collect(self)\n",
    "\n",
    "        # Verificar si la distribución de cajas está equilibrada\n",
    "        if not self.check_box_distribution():\n",
    "            self.reorganize_boxes()\n",
    "\n",
    "        # Mover agentes y ejecutar sus pasos\n",
    "        self.schedule.step()\n",
    "\n",
    "    def check_box_distribution(self):\n",
    "        return np.all(self.boxes % 5 == 0)  # Verificar si todas las cajas están distribuidas en múltiplos de 5\n",
    "\n",
    "    def reorganize_boxes(self):\n",
    "        # Mover un agente a una celda vecina sin una caja\n",
    "        for agent in self.schedule.agents:\n",
    "            if len(agent.box) == 0:\n",
    "                possible_steps = self.grid.get_neighborhood(agent.pos, moore=False, include_center=False)\n",
    "                for step in possible_steps:\n",
    "                    x, y = step\n",
    "                    if self.boxes[x][y] < 5:\n",
    "                        self.grid.move_agent(agent, step)\n",
    "                        agent.pos = step\n",
    "                        return"
   ]
  },
  {
   "cell_type": "code",
   "execution_count": 282,
   "metadata": {},
   "outputs": [],
   "source": [
    "#Funciones auxiliares\n",
    "def getRobots(model):\n",
    "    return np.asarray([agent.pos for agent in model.schedule.agents])\n",
    "\n",
    "def getBoxes(model):\n",
    "    return model.boxes"
   ]
  },
  {
   "cell_type": "code",
   "execution_count": 283,
   "metadata": {},
   "outputs": [
    {
     "name": "stdout",
     "output_type": "stream",
     "text": [
      "El número de pasos usados en la simulación fue:  1000\n"
     ]
    },
    {
     "data": {
      "image/png": "[encoded data removed]",
      "text/plain": [
       "<Figure size 640x480 with 2 Axes>"
      ]
     },
     "metadata": {},
     "output_type": "display_data"
    }
   ],
   "source": [
    "# Parámetros del modelo\n",
    "WIDTH = 20\n",
    "HEIGHT = 20\n",
    "NUM_AGENTS = 5\n",
    "STEPS = 1000\n",
    "BOXES = 200\n",
    "SEED = 67890\n",
    "random.seed(SEED)\n",
    "\n",
    "# Crear y ejecutar el modelo\n",
    "model = StorageModel(WIDTH, HEIGHT, NUM_AGENTS, BOXES)\n",
    "\n",
    "for i in range(STEPS):\n",
    "    model.step()\n",
    "\n",
    "# Imprimir el número de pasos\n",
    "print(\"El número de pasos usados en la simulación fue: \", STEPS)\n",
    "\n",
    "# Visualizar la distribución final de cajas usando matplotlib\n",
    "final_box_distribution = model.datacollector.get_model_vars_dataframe()[\"Boxes\"].iloc[-1]\n",
    "\n",
    "cmap = plt.cm.viridis  # Cambiar el color a 'viridis'\n",
    "\n",
    "plt.imshow(final_box_distribution, cmap=cmap, interpolation='nearest', origin='lower', extent=[0, WIDTH, 0, HEIGHT])\n",
    "plt.colorbar()\n",
    "plt.xticks(np.arange(0, HEIGHT+1, 1))\n",
    "plt.yticks(np.arange(0, WIDTH+1, 1))\n",
    "plt.grid(True)\n",
    "plt.show()"
   ]
  }
 ],
 "metadata": {
  "kernelspec": {
   "display_name": "Python 3",
   "language": "python",
   "name": "python3"
  },
  "language_info": {
   "codemirror_mode": {
    "name": "ipython",
    "version": 3
   },
   "file_extension": ".py",
   "mimetype": "text/x-python",
   "name": "python",
   "nbconvert_exporter": "python",
   "pygments_lexer": "ipython3",
   "version": "3.11.0"
  }
 },
 "nbformat": 4,
 "nbformat_minor": 2
}
